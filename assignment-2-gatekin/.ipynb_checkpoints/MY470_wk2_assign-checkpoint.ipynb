{
 "cells": [
  {
   "cell_type": "markdown",
   "metadata": {
    "slideshow": {
     "slide_type": "slide"
    }
   },
   "source": [
    "### MY470 Computer Programming\n",
    "\n",
    "### Week 2 Assignment, MT 2021\n",
    "\n",
    "#### \\*\\*\\* Due 12:00 noon on Monday, October 11 \\*\\*\\*"
   ]
  },
  {
   "cell_type": "markdown",
   "metadata": {
    "slideshow": {
     "slide_type": "slide"
    }
   },
   "source": [
    "---\n",
    "### Working with text\n",
    "\n",
    "For this assignment, we will use the text in the file kafka_trial.txt. The file contains the first paragraph from Franz Kafka's book *The Trial*, which you can find on [Project Gutenberg](http://www.gutenberg.org/ebooks/7849)."
   ]
  },
  {
   "cell_type": "markdown",
   "metadata": {},
   "source": [
    "### Problem 1: How many words?\n",
    "\n",
    "Print the number of words in the text. Enter your code in the cell below. The cell already contains code that takes the text from the file and saves it as a string in the variable txt. Note that the text contains new line characters \"\\n\".\n",
    "\n",
    "#### Hints\n",
    "\n",
    "Count words with apostrophes, e.g. \"didn't\", as one word. Do not count punctuation marks, e.g. hyphens \"-\", as words. Attention to detail is important here!"
   ]
  },
  {
   "cell_type": "code",
   "execution_count": 74,
   "metadata": {
    "scrolled": true
   },
   "outputs": [
    {
     "name": "stdout",
     "output_type": "stream",
     "text": [
      "Someone must have been telling lies about Josef K., he knew he had\n",
      "done nothing wrong but, one morning, he was arrested.  Every day at\n",
      "eight in the morning he was brought his breakfast by  Mrs. Grubach's\n",
      "cook - Mrs. Grubach was his landlady - but today she didn't come.  That\n",
      "had never happened before.  K. waited a little while, looked from his\n",
      "pillow at the old woman who lived opposite and who was watching him with\n",
      "an inquisitiveness quite unusual for her, and finally, both hungry and\n",
      "disconcert\n",
      "Number of words in text file : 1425\n"
     ]
    }
   ],
   "source": [
    "\n",
    "# Open the file and get the text into a string variable called txt\n",
    "with open('kafka_trial.txt') as f:\n",
    "    txt = f.read()\n",
    "print(txt[:500]) # Show the first 500 characters of the txt variable\n",
    "\n",
    "# Enter your answer to Problem 1 below. \n",
    "\n",
    "# Removing punctuation marks\n",
    "\n",
    "filteredfulltext = \"\".join(txt).strip().replace(\"-\",\"\").replace(\",\",\"\").replace(\"\\\"\",\"\").replace(\"'\",\"\").replace(\".\",\"\")\n",
    "words = filteredfulltext.split()\n",
    "\n",
    "print('Number of words in text file :', len(words))\n",
    "\n",
    "\n",
    "\n",
    "\n",
    "\n"
   ]
  },
  {
   "cell_type": "markdown",
   "metadata": {},
   "source": [
    "---\n",
    "### Problem 2: How many unique words?\n",
    "\n",
    "Print the number of unique words in the text. Enter your code in the cell below. \n",
    "\n",
    "#### Hints\n",
    "\n",
    "Count contractions, e.g. \"didn't\", and possessives , e.g. \"policeman's\", as distinct words but ignore formatting such as capitalization and quotation marks. "
   ]
  },
  {
   "cell_type": "code",
   "execution_count": 77,
   "metadata": {
    "scrolled": true
   },
   "outputs": [
    {
     "name": "stdout",
     "output_type": "stream",
     "text": [
      "Number of unique words in text file : 443\n",
      "{'happen', 'have', 'acquaintance', 'sitting', 'amount', 'fit', 'still', 'he', 'cant', 'one', 'living', 'dared', 'understand', 'though', 'both', 'slowly', 'exactly', 'between', 'underclothes', 'second', 'especially', 'missing', 'be', 'gave', 'reckon', 'possessed', 'only', 'named', 'value', 'going', 'known', 'has', 'sharing', 'space', 'wouldnt', 'stood', 'their', 'good', 'folds', 'important', 'caught', 'there', 'looked', 'practical', 'lose', 'everywhere', 'grubach', 'underway', 'now', 'along', 'come', 'sit', 'than', 'leave', 'although', 'wrong', 'even', 'entered', 'laughter', 'well', 'next', 'anna', 'work', 'apart', 'couldnt', 'man', 'could', 'give', 'allowed', 'clothes', 'him', 'tried', 'attention', 'today', 'of', 'whether', 'towards', 'twisted', 'you', 'in', 'hungry', 'done', 'merely', 'frequently', 'out', 'really', 'sticking', 'chance', 'waited', 'thirtieth', 'book', 'asked', 'decent', 'are', 'to', 'some', 'what', 'job', 'people', 'cases', 'disturbed', 'all', 'woman', 'how', 'after', 'youd', 'clearly', 'nor', 'said', 'buckles', 'side', 'nonetheless', 'spoken', 'was', 'made', 'continue', 'because', 'risk', 'time', 'neither', 'previous', 'threw', 'coming', 'bring', 'office', 'bigger', 'must', 'why', 'wasnt', 'black', 'free', 'coffee', 'ignored', 'learned', 'breakfast', 'several', 'jumped', 'it', 'seen', 'suffer', 'return', 'also', 'act', 'pay', 'perhaps', 'two', 'hand', 'for', 'money', 'which', 'yourself', 'involved', 'making', 'difference', 'many', 'ever', 'without', 'few', 'offered', 'hes', 'occurred', 'when', 'will', 'tearing', 'follow', 'been', 'his', 'window', 'policemans', 'that', 'josef', 'passed', 'true', 'walked', 'quickly', 'simply', 'taken', 'rang', 'ignoring', 'if', 'lower', 'dont', 'way', 'nightshirt', 'hope', 'strong', 'thought', 'away', 'am', 'think', 'maybe', 'may', 'cross', 'a', 'part', 'inclined', 'landlady', 'get', 'anything', 'hear', 'luck', 'back', 'as', 'sound', 'lightly', 'case', 'bank', 'sort', 'youve', 'set', 'anywhere', 'sell', 'close', 'unimportant', 'carry', 'movement', 'report', 'had', 'colleagues', 'seem', 'little', 'neighbouring', 'keep', 'called', 'first', 'happened', 'boney', 'with', 'did', 'house', 'sight', 'glance', 'knew', 'occasions', 'wear', 'nothing', 'who', 'by', 'let', 'meant', 'into', 'something', 'upright', 'standing', 'corner', 'noticed', 'knock', 'experience', 'lived', 'ones', 'then', 'tell', 'arresting', 'never', 'should', 'would', 'door', 'the', 'last', 'felt', 'brought', 'impression', 'took', 'can', 'youre', 'where', 'unlike', 'like', 'decided', 'down', 'cautious', 'life', 'presence', 'own', 'acknowledged', 'proceedings', 'stayed', 'heed', 'habit', 'i', 'slight', 'showing', 'might', 'later', 'learn', 'your', 'himself', 'mind', 'up', 'strange', 'thinking', 'unknown', 'learning', 'talking', 'them', 'nose', 'on', 'tradesmen', 'porcelain', 'us', 'better', 'new', 'place', 'hadnt', 'right', 'over', 'arrival', 'advantage', 'belly', 'year', 'watching', 'morning', 'policemen', 'officers', 'wait', 'they', 'men', 'certain', 'or', 'more', 'usual', 'under', 'is', 'theyre', 'me', 'wants', 'go', 'things', 'authority', 'slapped', 'chair', 'at', 'actually', 'bed', 'just', 'pillow', 'much', 'pulled', 'significantly', 'about', 'observation', 'long', 'got', 'seemed', 'lies', 'inquisitiveness', 'face', 'an', 'didnt', 'question', 'take', 'opposite', 'slim', 'always', 'laws', 'thats', 'normally', 'someone', 'hardly', 'were', 'from', 'joke', 'main', 'so', 'big', 'want', 'every', 'franz', 'thing', 'nowhere', 'grubachs', 'came', 'day', 'having', 'went', 'paid', 'any', 'and', 'remained', 'everything', 'laugh', 'this', 'possible', 'extent', 'stay', 'slipped', 'other', 'acted', 'say', 'theyd', 'immediately', 'accost', 'table', 'behind', 'belong', 'youll', 'turned', 'through', 'room', 'clear', 'until', 'looking', 'doing', 'but', 'anyway', 'understanding', 'eight', 'telling', 'wanted', 'policemens', 'very', 'she', 'not', 'buttons', 'half', 'friendly', 'tendency', 'introduced', 'instead', 'unusual', 'same', 'being', 'quite', 'old', 'my', 'these', 'no', 'neednt', 'see', 'stranger', 'end', 'since', 'do', 'while', 'open', 'firmly', 'forth', 'bridges', 'here', 'opened', 'its', 'saw', 'cook'}\n"
     ]
    }
   ],
   "source": [
    "# Enter your answer to Problem 2 here. Note that you can reuse code\n",
    "# from any code cells above, as long as you have run the code \n",
    "# previously in the current kernel session.\n",
    "\n",
    "words = txt.split()\n",
    "\n",
    "# Removing Capitalization and Quotation Marks \n",
    "\n",
    "filteredwords = [word.lower().replace(\"\\\"\",\"\").replace(\"'\",\"\") for word in words]\n",
    "\n",
    "# Removing NON alphabetic characters\n",
    "\n",
    "filteredwords = list(filter(lambda a: a.isalpha(),filteredwords))\n",
    "\n",
    "# Unique words\n",
    "uniquewords = set(filteredwords)\n",
    "\n",
    "# number of unique words\n",
    "print('Number of unique words in text file :', len(uniquewords))\n",
    "\n",
    "\n",
    "print(uniquewords)\n",
    "\n",
    "\n",
    "\n",
    "\n",
    "\n",
    "\n"
   ]
  },
  {
   "cell_type": "markdown",
   "metadata": {},
   "source": [
    "---\n",
    "### Problem 3: How common are certain words?\n",
    "\n",
    "Consider the words \"the\", \"a\", \"and\", \"man\", and \"time\". Create a dictionary where each of these words is a key and the value is the number of times the word appears in the text. Then print five lines of text, each containing one of the words and the number of times it appears. Your answer should look as follows, where `XX` is the corresponding count:\n",
    "```\n",
    "the: XX\n",
    "a: XX\n",
    "and: XX\n",
    "man: XX\n",
    "time: XX\n",
    "```"
   ]
  },
  {
   "cell_type": "code",
   "execution_count": 80,
   "metadata": {},
   "outputs": [
    {
     "name": "stdout",
     "output_type": "stream",
     "text": [
      "the: 61\n",
      "a: 20\n",
      "and: 35\n",
      "man: 7\n",
      "time: 4\n"
     ]
    }
   ],
   "source": [
    "# Enter your answer to Problem 3 here. \n",
    "\n",
    "text = open(\"kafka_trial.txt\", \"r\") \n",
    "d = dict()\n",
    "\n",
    "for line in text:\n",
    "    line = line.strip()\n",
    "    line = line.lower()\n",
    "    words = line.split()\n",
    "    \n",
    "    for word in words:\n",
    "        if word=='the' or word=='a' or word=='and' or word=='man' or word=='time':\n",
    "            if word in d:\n",
    "                d[word] = d[word] + 1\n",
    "            else:\n",
    "                d[word] = 1\n",
    "\n",
    "for key,value in d.items():\n",
    "    print(f\"{key}: {value}\")\n",
    "    \n",
    "\n",
    "\n",
    "\n",
    "   \n"
   ]
  },
  {
   "cell_type": "markdown",
   "metadata": {},
   "source": [
    "---\n",
    "### Problem 4: Sort the words alphabetically\n",
    "\n",
    "Sort the unique words in the text alphabetically. Then print the first 10 unique words in alphabetical order. Then print the last 10 unique words in reverse alphabetical order.\n",
    "\n",
    "#### Hints\n",
    "\n",
    "Think about efficiency here and avoid unnecessary operations.\n",
    " "
   ]
  },
  {
   "cell_type": "code",
   "execution_count": 79,
   "metadata": {},
   "outputs": [
    {
     "name": "stdout",
     "output_type": "stream",
     "text": [
      "['a', 'about', 'accost', 'acknowledged', 'acquaintance', 'act', 'acted', 'actually', 'advantage', 'after']\n",
      "['wouldnt', 'wrong', 'year', 'you', 'youd', 'youll', 'your', 'youre', 'yourself', 'youve']\n"
     ]
    }
   ],
   "source": [
    "# Enter your answer to Problem 4 here. \n",
    "\n",
    "words = txt.split()\n",
    "words = uniquewords \n",
    "\n",
    "sortedwords = sorted(words, reverse = False)\n",
    "\n",
    "#In alphabetical order\n",
    "print(sortedwords[:10])\n",
    "\n",
    "# Reversed alphabetical order\n",
    "print(sortedwords[-10:])\n",
    "\n",
    "\n",
    "\n"
   ]
  },
  {
   "cell_type": "markdown",
   "metadata": {},
   "source": [
    "---\n",
    "\n",
    "### Evaluation\n",
    "\n",
    "| Problem | Mark     | Comment   \n",
    "|:-------:|:--------:|:----------------------\n",
    "| 1       |   /4    |              \n",
    "| 2       |   /3    | \n",
    "| 3       |   /4    | \n",
    "| 4       |   /3    | \n",
    "| Correct submission       |   /2    | \n",
    "| Code legibility | /4    | \n",
    "|**Total**|**/20**  | "
   ]
  }
 ],
 "metadata": {
  "kernelspec": {
   "display_name": "Python 3",
   "language": "python",
   "name": "python3"
  },
  "language_info": {
   "codemirror_mode": {
    "name": "ipython",
    "version": 3
   },
   "file_extension": ".py",
   "mimetype": "text/x-python",
   "name": "python",
   "nbconvert_exporter": "python",
   "pygments_lexer": "ipython3",
   "version": "3.8.8"
  }
 },
 "nbformat": 4,
 "nbformat_minor": 2
}
