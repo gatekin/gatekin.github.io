{
 "cells": [
  {
   "cell_type": "markdown",
   "metadata": {
    "slideshow": {
     "slide_type": "slide"
    }
   },
   "source": [
    "### MY470 Computer Programming\n",
    "\n",
    "### Week 4 Assignment, MT 2021\n",
    "\n",
    "#### \\*\\*\\* Due 12:00 noon on Monday, October 25 \\*\\*\\*"
   ]
  },
  {
   "cell_type": "markdown",
   "metadata": {
    "slideshow": {
     "slide_type": "slide"
    }
   },
   "source": [
    "---\n",
    "### Writing your own k-means clustering algorithm\n",
    "\n",
    "K-means clustering is a simple unsupervised machine-learning method for cluster analysis. The aim of the method is to partition a set of points into k clusters, such that each point is assigned to the nearest cluster. The algorithm iterates through two steps:\n",
    "\n",
    "1. Assign each data point to the cluster with the nearest centroid\n",
    "2. Update the centroids of the clusters given the new assignment\n",
    "\n",
    "The algorithm converges when the assignments no longer change. Since the intial assignment to clusters is largely random, there is no guarantee that the optimum assignment is found. So it is common to run the algorithm multiple times and use different starting conditions.\n",
    "\n",
    "In this assignment, we will implement a much simplified version of the k-means clustering algorithm. Rather than running the algorithm until convergence, we will repeat the above two steps a large but fixed number of times. In addition, we will initialize only once, using a naive method according to which we randomly choose k points from the data to use as initial cluster centroids. \n",
    "\n",
    "(In real life, you will of course use a library to implement such an algorithm. In Python, you can do this using [scikit-learn](http://scikit-learn.org/stable/modules/generated/sklearn.cluster.KMeans.html).)\n",
    "\n",
    "For the assignment, we will additionally use data from the file \"Wholesale customers data.csv\". The file contains information on the annual spending on diverse product categories for the clients of a wholesale distributor. The data are obtained from the [UCI Machine Learning Repository](http://archive.ics.uci.edu/ml/index.php) and you can find more information about them [here](http://archive.ics.uci.edu/ml/datasets/Wholesale+customers#).\n",
    "\n",
    "#### Hints\n",
    "\n",
    "Use docstrings to describe your functions. We will subtract points from your mark if you do not use appropriate description of your code."
   ]
  },
  {
   "cell_type": "code",
   "execution_count": 4,
   "metadata": {},
   "outputs": [],
   "source": [
    "# We will first import the modules we need\n",
    "# Edit this cell if you prefer to use alternative modules or libraries\n",
    "\n",
    "# You will need the math module to estimate the square root.\n",
    "# To get the square root of num, use math.sqrt(num)\n",
    "import math\n",
    "import csv\n",
    "import random"
   ]
  },
  {
   "cell_type": "markdown",
   "metadata": {},
   "source": [
    "### Problem 1: Function to estimate Euclidean distance between two points\n",
    "\n",
    "Write a function called `get_distance` that calculates the Euclidean distance between two n-dimensional points. The function should take two lists as arguments, where each list contains the n coordinates of each of the two points. \n",
    "\n",
    "Test your function for the points [0, 3, 0] and [4, 0, 0].\n",
    "\n",
    "#### Hints\n",
    "\n",
    "You can read about the definition of Euclidean distance on [Wikipedia](https://en.wikipedia.org/wiki/Euclidean_distance).\n"
   ]
  },
  {
   "cell_type": "code",
   "execution_count": 112,
   "metadata": {},
   "outputs": [
    {
     "name": "stdout",
     "output_type": "stream",
     "text": [
      "5.0\n"
     ]
    }
   ],
   "source": [
    "# Enter your answer to Problem 1 below. \n",
    "\n",
    "def get_distance(x, y):\n",
    "    \"\"\"Assumes x and y are numeric type. The aim of the function is to find the distance between n-dimensional points.\"\"\"\n",
    "    \"\"\"Function returns nothing if the lenght of x an y are different so that we make sure they have the same dimensions.\"\"\"  \n",
    "    if len(x) != len(y):\n",
    "        return None\n",
    "    \n",
    "    dist = 0\n",
    "    for i in range(0,len(x)):\n",
    "        dist = dist + (x[i]-y[i])**2\n",
    "    \n",
    "    return math.sqrt(dist)\n",
    "        \n",
    "print(get_distance([0, 3, 0],[4, 0, 0])) \n"
   ]
  },
  {
   "cell_type": "markdown",
   "metadata": {},
   "source": [
    "### Problem 2: Function to estimate the centroid of a collection of points\n",
    "\n",
    "Write a function called `get_centroid` that estimates the centroid of a collection of n-dimensional points. The function should take one list as an argument, which contains each of the points entered as a list of n coordinates. The function should return a list with the coordinates of the virtual center point.\n",
    "\n",
    "Test your function for the points in `test_lst` entered below.\n",
    "\n",
    "#### Hints\n",
    "\n",
    "The coordinate of the centroid in each dimension is the mean of the coordinates of all the points in that dimension.\n"
   ]
  },
  {
   "cell_type": "code",
   "execution_count": 113,
   "metadata": {
    "scrolled": false
   },
   "outputs": [
    {
     "name": "stdout",
     "output_type": "stream",
     "text": [
      "[0.5, 0.5, 0.5]\n"
     ]
    }
   ],
   "source": [
    "test_lst = [[0,0,0], [0,0,1], [0,1,0], [1,0,0], \n",
    "            [0,1,1], [1,0,1], [1,1,0], [1,1,1]]\n",
    "\n",
    "# Enter your answer to Problem 2 below. \n",
    "\n",
    "def get_centroid(z):\n",
    "    \"\"\"Assumes z is of numeric type. The aim of the function is to find the centroid of various n-dimensional points.\"\"\"\n",
    "    \"\"\"The function calculates the mean of coordinates. It takes a list of coordinates and returns a list with the coordinates of the centroid.\"\"\"\n",
    "    centroid = []\n",
    "    for i in range(0, len(z[0])):\n",
    "        total = 0\n",
    "        for j in range(0, len(z)):\n",
    "            total = total + (z[j][i])\n",
    "    \n",
    "        centroid.append(total/len(z)) \n",
    "    return centroid\n",
    "\n",
    "print(get_centroid(test_lst))\n"
   ]
  },
  {
   "cell_type": "markdown",
   "metadata": {},
   "source": [
    "---\n",
    "### Problem 3: Function to read data\n",
    "\n",
    "Write a function called `get_data` that opens the file \"Wholesale customers data.csv\" and returns all the data in a list. Each element in the list should be a list of each customer's annual spending on fresh products, milk products, grocery products, frozen products, detergents and paper products, and delicatessen products. In other words, your list should contain 440 elements (customers), each of which contains six numeric elements (amounts spent on products). The function does not need to take any arguments.\n",
    "\n",
    "Test your function by saving the data it returns in a variable called `data`. Then print the first two elements of `data`.\n",
    "\n",
    "\n",
    "#### Hints\n",
    "\n",
    "Use the csv module to read the file. You can read how to do this [here](https://docs.python.org/3/library/csv.html). Make sure you do not include the column names in the data. "
   ]
  },
  {
   "cell_type": "code",
   "execution_count": 115,
   "metadata": {},
   "outputs": [
    {
     "name": "stdout",
     "output_type": "stream",
     "text": [
      "[[12669, 9656, 7561, 214, 2674, 1338], [7057, 9810, 9568, 1762, 3293, 1776]]\n"
     ]
    }
   ],
   "source": [
    "# Enter your answer to Problem 3 here. \n",
    "\n",
    "def get_data():\n",
    "    \"\"\"This function first opens the csv file at hand, and then returns all the data in a list.\"\"\"\n",
    "    \"\"\"The function ignores the column names in the file and returns customer spending in each 6 category as a numeric value.\"\"\"\n",
    "    with open('Wholesale customers data.csv', 'r') as csv_file:\n",
    "        csv_reader = csv.reader(csv_file)\n",
    "        \n",
    "        list_of_annual_spending = []\n",
    "    \n",
    "        next(csv_reader)\n",
    "        for line in csv_reader:\n",
    "            line = [int(x) for x in line]\n",
    "            list_of_annual_spending.append(line[2:8])\n",
    "            \n",
    "    \n",
    "    return list_of_annual_spending\n",
    "\n",
    "data = get_data()\n",
    "\n",
    "print(data[:2])\n"
   ]
  },
  {
   "cell_type": "markdown",
   "metadata": {},
   "source": [
    "---\n",
    "### Problem 4: Function to implement k-means algorithm\n",
    "\n",
    "Write a function called `kmeans` that clusters a collection of points into k clusters using a simplified version of the k-means algorithm. The function should take two arguments: \n",
    "\n",
    "1. `points` – a list of n-dimensional points, and\n",
    "2. `k` – an integer that defines the number of desired clusters. \n",
    "\n",
    "The function should return two things: \n",
    "\n",
    "1. A clustering – a list of `k` clusters, each of which is a list of points (each of which is a list of coordinates)\n",
    "2. A list of the centroids for each of the `k` clusters. Each centroid is essentially a point, so it should be presented as a list of coordinates.\n",
    "\n",
    "Write your code around the detailed comments and the helping code below.\n",
    "\n",
    "Test your function on the data from Problem 3 for k = 3. For each of the three clusters, print the number of customers assigned to it and the cordinates of its centroid.\n"
   ]
  },
  {
   "cell_type": "code",
   "execution_count": 121,
   "metadata": {
    "scrolled": false
   },
   "outputs": [
    {
     "name": "stdout",
     "output_type": "stream",
     "text": [
      "Cluster  1 : Number of Customers : 337 Centroid Coordinates : [7390.958456973293, 4439.768545994065, 6292.19584569733, 2495.53412462908, 2238.652818991098, 1158.448071216617]\n",
      "Cluster  2 : Number of Customers : 75 Centroid Coordinates : [32768.013333333336, 4827.68, 5723.1466666666665, 5535.92, 1074.12, 2066.64]\n",
      "Cluster  3 : Number of Customers : 28 Centroid Coordinates : [11849.17857142857, 24717.10714285714, 33887.71428571428, 3409.3214285714284, 15459.714285714286, 4483.857142857143]\n"
     ]
    }
   ],
   "source": [
    "# Enter your answer to Problem 4 in-between the code and comments below. \n",
    "\n",
    "def kmeans(points, k):\n",
    "    \"\"\"This function clusters a collection of points into k clusters. It first assigns each point to the cluster with the closest centroid.\"\"\"\n",
    "    \"\"\"Then the function goes onto create a new clustering with new centroids based on the previous clusters' centroids.\"\"\"\n",
    "    \"\"\"The function repeats the process described above 100 times in order to refine the clustering.\"\"\"\n",
    "    \"\"\"The function returns a list of specified numbers of clusters and a list of centroids for each of those clusters.\"\"\"\n",
    "    \n",
    "    # Select k random points to use as initial centroids\n",
    "    init = random.sample(points, k)\n",
    "\n",
    "    # Create a list of k lists to contain the points assigned to each cluster.  \n",
    "    clusters = [[] for i in init]\n",
    "    \n",
    "    # Create a list to keep the centroids of the k clusters. \n",
    "    # For now, this list will contain the points from init.\n",
    "    centroids = [i for i in init]\n",
    "    \n",
    "    # You now need to assign each point to the cluster \n",
    "    # with the closest centroid. Use the get_distance function \n",
    "    # you wrote in Problem 1 for this.\n",
    "    for i in points:\n",
    "        closest_distance = float('inf')\n",
    "        closest_centroid = -1\n",
    "        for j in centroids:\n",
    "            if closest_distance > get_distance(i, j):\n",
    "                closest_distance = get_distance(i, j)\n",
    "                closest_centroid = centroids.index(j)\n",
    "        clusters[closest_centroid].append(i)\n",
    "   \n",
    "    \n",
    "    # You should then update the variable \"clusters\" to be \n",
    "    # the new clustering and update the variable \"centroids\" \n",
    "    # to contain the centroids of the clusters in this new clustering.\n",
    "    # Use the function you wrote in Problem 2 to estimate the centroids.\n",
    "    \n",
    "    # Wrote the described process here first and ran it for 100 times in the following loop below\n",
    "    \n",
    "    #for i in range(0, k):\n",
    "        #centroids[i] = get_centroid(clusters[i])\n",
    "\n",
    "    #clusters = [[] for i in init]\n",
    "    #for i in points:\n",
    "        #closest_distance = float('inf') \n",
    "        #closest_centroid = -1\n",
    "        #for j in centroids:\n",
    "            #if closest_distance > get_distance(i, j):\n",
    "                #closest_distance = get_distance(i, j)\n",
    "                #closest_centroid = centroids.index(j)\n",
    "        #clusters[closest_centroid].append(i)\n",
    "    \n",
    "        \n",
    "    # Repeat the process described above for 100 iterations. \n",
    "    # The idea is that each new repetition refines the clustering \n",
    "    # because it starts from the centroids of the previous clustering. \n",
    "    # If we repeat the process long enough, the assignment to \n",
    "    # clusters and the centroids will become stable.\n",
    "    \n",
    "    for i in range(0 , 100):\n",
    "        for i in range(0, k):\n",
    "            centroids[i] = get_centroid(clusters[i])\n",
    "\n",
    "        clusters = [[] for i in init]\n",
    "        for i in points:\n",
    "            closest_distance = float('inf')\n",
    "            closest_centroid = -1\n",
    "            for j in centroids:\n",
    "                if closest_distance > get_distance(i, j):\n",
    "                    closest_distance = get_distance(i, j)\n",
    "                    closest_centroid = centroids.index(j)\n",
    "            clusters[closest_centroid].append(i)\n",
    "\n",
    "    return clusters, centroids \n",
    "\n",
    "\n",
    "x = kmeans(data, 3)\n",
    "\n",
    "cluster_length = []\n",
    "for i in x[0]:\n",
    "    cluster_length.append(len(i))\n",
    "\n",
    "for i in range(0, len(x[1])):\n",
    "    print('Cluster ', i + 1, ': Number of Customers :', cluster_length[i], 'Centroid Coordinates :', x[1][i])\n",
    "    "
   ]
  },
  {
   "cell_type": "markdown",
   "metadata": {},
   "source": [
    "---\n",
    "\n",
    "### Evaluation\n",
    "\n",
    "| Problem | Mark     | Comment   \n",
    "|:-------:|:--------:|:----------------------\n",
    "| 1       |   /2    |              \n",
    "| 2       |   /2    | \n",
    "| 3       |   /2    | \n",
    "| 4       |   /6    | \n",
    "| Legibility      |   /2    | \n",
    "| Modularity      |   /2    | \n",
    "| Efficiency      |   /4    | \n",
    "|**Total**|**/20**  | "
   ]
  }
 ],
 "metadata": {
  "kernelspec": {
   "display_name": "Python 3",
   "language": "python",
   "name": "python3"
  },
  "language_info": {
   "codemirror_mode": {
    "name": "ipython",
    "version": 3
   },
   "file_extension": ".py",
   "mimetype": "text/x-python",
   "name": "python",
   "nbconvert_exporter": "python",
   "pygments_lexer": "ipython3",
   "version": "3.8.8"
  }
 },
 "nbformat": 4,
 "nbformat_minor": 2
}
