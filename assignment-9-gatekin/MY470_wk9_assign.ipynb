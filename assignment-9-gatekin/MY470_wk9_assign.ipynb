{
 "cells": [
  {
   "cell_type": "markdown",
   "metadata": {
    "slideshow": {
     "slide_type": "slide"
    }
   },
   "source": [
    "### MY470 Computer Programming\n",
    "\n",
    "### Week 9 Assignment, MT 2021\n",
    "\n",
    "#### \\*\\*\\* Due 12:00 noon on Monday, November 29 \\*\\*\\*"
   ]
  },
  {
   "cell_type": "markdown",
   "metadata": {
    "slideshow": {
     "slide_type": "slide"
    }
   },
   "source": [
    "---\n",
    "### Practicing order of growth analysis\n",
    "\n",
    "This assignment takes the form of a more traditional problem set, where each problem stands by itself and is unrelated to the others.\n",
    "\n",
    "**You are expected to complete this assignment on your own. You are not allowed to discuss your answers with others!**"
   ]
  },
  {
   "cell_type": "markdown",
   "metadata": {},
   "source": [
    "---\n",
    "\n",
    "### Problem 1\n",
    "\n",
    "Please give the order of growth for the function below and explain your reasoning in a couple of sentences."
   ]
  },
  {
   "cell_type": "code",
   "execution_count": 37,
   "metadata": {},
   "outputs": [],
   "source": [
    "def is_prime(x):\n",
    "    \"\"\"Take an integer greater than 1 and check if it is a prime number.\n",
    "    Return True if prime, False otherwise.\n",
    "    \"\"\"\n",
    "    for i in range(2, int(x**0.5) + 1):\n",
    "        if x % i == 0:\n",
    "            return False\n",
    "    return True\n",
    "\n",
    "\n",
    "# Enter your answer to Problem 1 below. \n",
    "\n",
    "#The order of the function is O(sqrt(x))-linear because the number of iterations our function \n",
    "#have is from 2 to square root of x. \n",
    "#Thus, the time complexity of our function is dependent on the square root of x.\n",
    "\n"
   ]
  },
  {
   "cell_type": "markdown",
   "metadata": {},
   "source": [
    "---\n",
    "\n",
    "### Problem 2\n",
    "\n",
    "Please give the order of growth for the function below and explain your reasoning in a couple of sentences."
   ]
  },
  {
   "cell_type": "code",
   "execution_count": null,
   "metadata": {},
   "outputs": [],
   "source": [
    "def multiply(a, b):\n",
    "    \"\"\"Take two integers and compute their product.\"\"\"\n",
    "    res = 0\n",
    "    for i in range(1, b + 1):\n",
    "        res += a\n",
    "    return res\n",
    "\n",
    "\n",
    "# Enter your answer to Problem 2 below. \n",
    "#Order of growth for the function is O(b) linear \n",
    "#because if the complexity of b increases by 2 so does the time complexity \n",
    "#of the function. Therefore, there is  a linear relationship.                           \n",
    "\n",
    " "
   ]
  },
  {
   "cell_type": "markdown",
   "metadata": {},
   "source": [
    "---\n",
    "\n",
    "### Problem 3\n",
    "\n",
    "Please give the order of growth for the function below and explain your reasoning in a couple of sentences."
   ]
  },
  {
   "cell_type": "code",
   "execution_count": 36,
   "metadata": {},
   "outputs": [],
   "source": [
    "def div(a, b):\n",
    "    \"\"\"Assume a and be are numeric, a > 0 and b > 0.\n",
    "    Perform integer division.\n",
    "    \"\"\"\n",
    "    counter = 0\n",
    "    summ = b\n",
    "    while summ <= a:\n",
    "        summ += b\n",
    "        counter += 1\n",
    "    return counter  \n",
    "\n",
    "\n",
    "\n",
    "# Enter your answer to Problem 3 below. \n",
    "# Order of growth of the funcition is O(a/b) linear, because b iterates until it reaches to a\n",
    "#For example, when a is 10 b is 5 there are 2 iterations or when a is 20 and b is 5 there are 4\n",
    "#Thus, there is a a/b linear relationship.\n"
   ]
  },
  {
   "cell_type": "markdown",
   "metadata": {},
   "source": [
    "---\n",
    "\n",
    "### Problem 4\n",
    "\n",
    "Please give the order of growth for the function below and explain your reasoning in a couple of sentences."
   ]
  },
  {
   "cell_type": "code",
   "execution_count": 38,
   "metadata": {},
   "outputs": [],
   "source": [
    "def modulo(a, b):\n",
    "    \"\"\"Take numbers a and b and compute a % b.\"\"\"\n",
    "    if b <= 0:\n",
    "        return None\n",
    "    div = int(a / b)\n",
    "    return a - div*b\n",
    "\n",
    "\n",
    "# Enter your answer to Problem 4 below. \n",
    "#Order of growth for the function is O(1)-constant \n",
    "#because regardless of the inputs, the function performs 2 operations. \n"
   ]
  },
  {
   "cell_type": "markdown",
   "metadata": {},
   "source": [
    "---\n",
    "\n",
    "### Problem 5\n",
    "\n",
    "Please give the order of growth for the function below and explain your reasoning in a couple of sentences."
   ]
  },
  {
   "cell_type": "code",
   "execution_count": 5,
   "metadata": {
    "collapsed": true
   },
   "outputs": [],
   "source": [
    "def power(a, b):\n",
    "    \"\"\"Take number a and non-negative integer b.\n",
    "    Compute a**b.\n",
    "    \"\"\"\n",
    "    if b == 0:\n",
    "        return 1\n",
    "    else:\n",
    "        return a * power(a, b - 1)\n",
    "\n",
    "# Enter your answer to Problem 5 below. \n",
    "# Order of growth for the function is O(b)linear \n",
    "#because the recursive function will be called for b times as in each iteration \n",
    "#b is decreased by 1.\n"
   ]
  },
  {
   "cell_type": "markdown",
   "metadata": {},
   "source": [
    "---\n",
    "\n",
    "### Problem 6\n",
    "\n",
    "Please write the function described in the given function specification. Then, in a comment, give the order of growth for the function and explain your reasoning in a couple of sentences.\n",
    "\n",
    "You can write your function in either Python or R. "
   ]
  },
  {
   "cell_type": "code",
   "execution_count": 39,
   "metadata": {},
   "outputs": [
    {
     "name": "stdout",
     "output_type": "stream",
     "text": [
      "[2, 4, 10, 6, 7, 16, 9]\n"
     ]
    }
   ],
   "source": [
    "numbers = [2,4,5,6,7,8,9]\n",
    "\n",
    "def multiply_list(numbers):\n",
    "    \"\"\"Take a list of numbers and modify it in place by\n",
    "multiplying every 3rd number by 2.\n",
    "\"\"\"\n",
    "    for i in range(2, len(numbers), 3):\n",
    "        numbers[i] *= 2\n",
    "    \n",
    "    return numbers \n",
    "\n",
    "print(multiply_list(numbers))\n",
    "\n",
    "#Source: https://stackoverflow.com/questions/56369646/multiply-every-third-element-of-a-list-by-two\n",
    "\n",
    "   \n",
    "# Enter your answer to Problem 6 below. \n",
    "#O(len(numbers)/3) \n",
    "#Order of growth for the function is is logarithmic. \n",
    "#The running time of the algorithm is proportional to the number of times \n",
    "#number of numbers(len(numbers)) can be divided by 3 and multiplied by 2.\n"
   ]
  },
  {
   "cell_type": "markdown",
   "metadata": {},
   "source": [
    "---\n",
    "\n",
    "### Problem 7\n",
    "\n",
    "Please write the function described in the given function specification. Then, in a comment, give the order of growth for the function and explain your reasoning in a couple of sentences.\n",
    "\n",
    "You can write your function in either Python or R. "
   ]
  },
  {
   "cell_type": "code",
   "execution_count": 24,
   "metadata": {
    "scrolled": false
   },
   "outputs": [
    {
     "name": "stdout",
     "output_type": "stream",
     "text": [
      "['abz', 'adfg', 'hjk', 'pqrw']\n"
     ]
    }
   ],
   "source": [
    "\"\"\"Take a list of strings, sort the letters in each string,\n",
    "and then sort the full list. The list is modified in place.\n",
    "\"\"\"\n",
    "\n",
    "letter_strings = ['bza', 'kjh', 'fdga','wqrp']\n",
    "\n",
    "def sorted_strings(letter_strings):\n",
    "    for i in range(len(letter_strings)):\n",
    "        letter_strings[i] = ''.join(sorted(letter_strings[i]))\n",
    "    letter_strings.sort()\n",
    "\n",
    "    return letter_strings\n",
    "\n",
    "print(sorted_strings(letter_strings)) \n",
    "\n",
    "\n",
    "# Enter your answer to Problem 7 below. \n",
    "#Order of growth of the function is O(n*log n) where n is the lenght of letter_strings.\n",
    "#The code calls the join method and first sorts each string anf sorts the full list n times. \n",
    "#Since sorting is on the order of n log n (assuming the worst-case scenario) \n"
   ]
  },
  {
   "cell_type": "markdown",
   "metadata": {},
   "source": [
    "---\n",
    "\n",
    "### Evaluation\n",
    "\n",
    "| Problem | Mark     | Comment   \n",
    "|:-------:|:--------:|:----------------------\n",
    "| 1       |   /2    |              \n",
    "| 2       |   /2    | \n",
    "| 3       |   /2    | \n",
    "| 4       |   /2    | \n",
    "| 5       |   /2    | \n",
    "| 6       |   /4    | \n",
    "| 7       |   /6    | \n",
    "|**Total**|**/20**  | \n"
   ]
  }
 ],
 "metadata": {
  "kernelspec": {
   "display_name": "Python 3",
   "language": "python",
   "name": "python3"
  },
  "language_info": {
   "codemirror_mode": {
    "name": "ipython",
    "version": 3
   },
   "file_extension": ".py",
   "mimetype": "text/x-python",
   "name": "python",
   "nbconvert_exporter": "python",
   "pygments_lexer": "ipython3",
   "version": "3.8.8"
  }
 },
 "nbformat": 4,
 "nbformat_minor": 2
}
